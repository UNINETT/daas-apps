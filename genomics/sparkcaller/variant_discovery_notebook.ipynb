{
 "cells": [
  {
   "cell_type": "code",
   "execution_count": null,
   "metadata": {
    "collapsed": false,
    "scrolled": false
   },
   "outputs": [],
   "source": [
    "import org.apache.spark.{SparkConf}\n",
    "val conf = new SparkConf()\n",
    "conf.setAppName(\"Variant discovery\")\n",
    "\n",
    "val nodeTotalCores          = 8\n",
    "\n",
    "val numExecutors            = 1\n",
    "val executorCores           = nodeTotalCores / numExecutors // How many cores to use per executor\n",
    "var executorThreads         = executorCores\n",
    "val hyperThreadingAvailable = false\n",
    "\n",
    "\n",
    "val executorMem             = \"24G\"  // Must be enough to fit the index files in memory\n",
    "\n",
    "conf.set(\"spark.executor.memory\", executorMem)\n",
    "conf.set(\"spark.executor.cores\", executorCores.toString)\n",
    "conf.set(\"spark.mesos.executor.memoryOverhead\", \"3G\")\n",
    "conf.set(\"spark.yarn.executor.memoryOverhead\", \"3G\")\n",
    "\n",
    "val driverCores             = 4\n",
    "val driverMem               = \"24G\"\n",
    "\n",
    "conf.set(\"spark.driver.memory\", driverMem)\n",
    "conf.set(\"spark.driver.cores\", driverCores.toString)\n",
    "\n",
    "kernel.createSparkContext(conf)"
   ]
  },
  {
   "cell_type": "code",
   "execution_count": null,
   "metadata": {
    "collapsed": false,
    "scrolled": false
   },
   "outputs": [],
   "source": [
    "// Load the SparkCaller library\n",
    "%AddJar http://f.128.no/sparkcaller-1.0.jar -f"
   ]
  },
  {
   "cell_type": "code",
   "execution_count": null,
   "metadata": {
    "collapsed": false,
    "scrolled": false
   },
   "outputs": [],
   "source": [
    "import com.github.sparkcaller.Utils\n",
    "\n",
    "val pathToReference = \"/data/hg19/ucsc.hg19.fasta\"\n",
    "val SAMinputFolder = \"/data/gcat_set_025_out/\"\n",
    "val outputFolder = \"/data/sparkcaller_out\"\n",
    "val pathToConfig = \"/data/sparkcaller_confs/sparkcaller.properties\"\n",
    "val knownSites = \"/data/dbsnp/dbsnp_138.hg19.vcf\"\n",
    "\n",
    "val toolsExtraArguments = Utils.loadConfigFile(pathToConfig);"
   ]
  },
  {
   "cell_type": "code",
   "execution_count": null,
   "metadata": {
    "collapsed": false,
    "scrolled": false
   },
   "outputs": [],
   "source": [
    "import com.github.sparkcaller.SparkCaller._\n",
    "\n",
    "val sparkCaller = new SparkCaller(sc, pathToReference, knownSites, toolsExtraArguments, executorCores.toString, outputFolder)"
   ]
  },
  {
   "cell_type": "code",
   "execution_count": null,
   "metadata": {
    "collapsed": false,
    "scrolled": true
   },
   "outputs": [],
   "source": [
    "val preprocessedSAMFiles = sparkCaller.preprocessSAMFiles(SAMinputFolder)"
   ]
  },
  {
   "cell_type": "code",
   "execution_count": null,
   "metadata": {
    "collapsed": false
   },
   "outputs": [],
   "source": [
    "val outputVariants = sparkCaller.discoverVariants(preprocessedSAMFiles)"
   ]
  }
 ],
 "metadata": {
  "kernelspec": {
   "display_name": "Apache Toree - Scala",
   "language": "scala",
   "name": "apache_toree_scala"
  },
  "language_info": {
   "name": "scala"
  }
 },
 "nbformat": 4,
 "nbformat_minor": 0
}
